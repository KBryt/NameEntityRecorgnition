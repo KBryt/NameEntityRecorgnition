{
 "cells": [
  {
   "cell_type": "markdown",
   "metadata": {
    "collapsed": true
   },
   "source": [
    "# My Jupyter Notebook on IBM Watson Studio\n",
    "\n",
    "   \n",
    "    "
   ]
  },
  {
   "cell_type": "markdown",
   "metadata": {},
   "source": [
    "### Bright Effah\n",
    "\n",
    " Data Scientist"
   ]
  },
  {
   "cell_type": "markdown",
   "metadata": {},
   "source": [
    "*I am interested in data science because I love working with data to tell a story*"
   ]
  },
  {
   "cell_type": "markdown",
   "metadata": {},
   "source": [
    "### Multipy and print answer"
   ]
  },
  {
   "cell_type": "code",
   "execution_count": 3,
   "metadata": {},
   "outputs": [
    {
     "name": "stdout",
     "output_type": "stream",
     "text": [
      "230\n"
     ]
    }
   ],
   "source": [
    "a1 = 23\n",
    "a2 = 10\n",
    "a3 = a1 * a2\n",
    "print(a3)\n",
    "    "
   ]
  },
  {
   "cell_type": "markdown",
   "metadata": {},
   "source": [
    "\n",
    "1. Data Scient\n",
    "2. Data Engineer\n",
    "3. Data Manager\n",
    "4. Data Analyst\n",
    "\n",
    "\n",
    "\n",
    "\n",
    "* Data Scient\n",
    "* Data Engineer\n",
    "* Data Manager\n",
    "* Data Analyst\n",
    "\n",
    "\n",
    "\n",
    "| Data Science | Data Analysis | Data Engineer |\n",
    "| :- | -: | :-: |\n",
    "| *Machine Learning* | Power BI | **SQL** |\n",
    "| 1 | 2 | 3\n",
    "\n",
    "\n",
    "[www.IBMWastsonbyt.com](https://eu-de.dataplatform.cloud.ibm.com/canvas/flows/373d6547-e310-4083-8007-c15212b3d8bf?context=cpdaas&projectGuid=23ce88ce-3237-4838-9cbe-b5656cfa43dd&env_id=mods-23ce88ce-3237-4838-9cbe-b5656cfa43dd)\n",
    "\n",
    "\n",
    "~An all-in-one interactive development environment, you can create and share your Jupyter Notebooks with learners in JupyterLite.~ \n"
   ]
  }
 ],
 "metadata": {
  "kernelspec": {
   "display_name": "Python 3.9",
   "language": "python",
   "name": "python3"
  },
  "language_info": {
   "codemirror_mode": {
    "name": "ipython",
    "version": 3
   },
   "file_extension": ".py",
   "mimetype": "text/x-python",
   "name": "python",
   "nbconvert_exporter": "python",
   "pygments_lexer": "ipython3",
   "version": "3.9.7"
  }
 },
 "nbformat": 4,
 "nbformat_minor": 1
}
